{
 "cells": [
  {
   "cell_type": "code",
   "execution_count": null,
   "metadata": {
    "ExecuteTime": {
     "end_time": "2020-03-07T00:36:25.717330Z",
     "start_time": "2020-03-07T00:36:24.991646Z"
    }
   },
   "outputs": [],
   "source": [
    "import detectron2\n",
    "from detectron2.utils.logger import setup_logger\n",
    "setup_logger()\n",
    "\n",
    "import numpy as np\n",
    "import cv2\n",
    "from PIL import Image\n",
    "import matplotlib.pyplot as plt\n",
    "import random\n",
    "\n",
    "from detectron2 import model_zoo\n",
    "from detectron2.engine import DefaultTrainer, DefaultPredictor, hooks\n",
    "from detectron2.config import get_cfg\n",
    "from detectron2.utils.visualizer import Visualizer\n",
    "from detectron2.data import MetadataCatalog"
   ]
  },
  {
   "cell_type": "code",
   "execution_count": null,
   "metadata": {
    "ExecuteTime": {
     "end_time": "2020-03-07T00:36:26.016586Z",
     "start_time": "2020-03-07T00:36:26.000317Z"
    }
   },
   "outputs": [],
   "source": [
    "import os\n",
    "import numpy as np\n",
    "import json\n",
    "\n",
    "def get_semseg_dataset_dicts(root_dir, dataset_name, mode):\n",
    "    '''\n",
    "    filelist is expected to be ADE20K style\n",
    "    \n",
    "    '''\n",
    "    listpath = os.path.join(root_dir, dataset_name, \n",
    "                            \"training_customdataset.odgt\" if mode == 'train' else \"validation_customdataset.odgt\")\n",
    "    filelist = []\n",
    "    with open(listpath) as f:\n",
    "        lines = f.readlines()\n",
    "        for line in lines:\n",
    "            img_s_id = line.find('fpath_img') + 13 # fpath_img\": \" = 13 characters\n",
    "            img_e_id = line[img_s_id:].find('\"') + img_s_id\n",
    "            lbl_s_id = line.find('fpath_segm') + 14 # fpath_segm\": \" = 14 characters\n",
    "            lbl_e_id = line[lbl_s_id:].find('\"') + lbl_s_id\n",
    "            data = {'filename':line[img_s_id : img_e_id], \n",
    "                    'labelname':line[lbl_s_id : lbl_e_id]}\n",
    "#             print(data)\n",
    "            filelist.append(data)\n",
    "\n",
    "    dataset_dicts = []\n",
    "\n",
    "    for i, datapaths in enumerate(filelist):\n",
    "        record = {}\n",
    "        \n",
    "        filename = os.path.join(root_dir, datapaths[\"filename\"])\n",
    "        labelname = os.path.join(root_dir, datapaths[\"labelname\"])\n",
    "        height, width = cv2.imread(filename).shape[:2]\n",
    "        \n",
    "        record[\"file_name\"] = filename\n",
    "        record[\"sem_seg_file_name\"] = labelname\n",
    "        record[\"image_id\"] = i\n",
    "        record[\"height\"] = height\n",
    "        record[\"width\"] = width\n",
    " \n",
    "        dataset_dicts.append(record)\n",
    "    return dataset_dicts\n"
   ]
  },
  {
   "cell_type": "code",
   "execution_count": null,
   "metadata": {
    "ExecuteTime": {
     "end_time": "2020-03-07T00:36:27.349753Z",
     "start_time": "2020-03-07T00:36:27.339051Z"
    }
   },
   "outputs": [],
   "source": [
    "from detectron2.data import DatasetCatalog, MetadataCatalog\n",
    "for mode in [\"train\", \"val\"]:\n",
    "    root_dir = '../data/detectron2'\n",
    "    dataset_name = 'training_data'\n",
    "    DatasetCatalog.register(\"semseg_\" + mode, lambda d=mode:get_semseg_dataset_dicts(root_dir, dataset_name, mode))\n",
    "    MetadataCatalog.get(\"semseg_\" + mode).set(stuff_classes=[\"others\", \"target\"], \n",
    "                                             stuff_colors=[(120,120,120),(255,0,0)])\n",
    "customdata_metadata = MetadataCatalog.get(\"semseg_train\")\n",
    "customdata_metadata_val = MetadataCatalog.get(\"semseg_val\")\n",
    "print(customdata_metadata, customdata_metadata_val)"
   ]
  },
  {
   "cell_type": "code",
   "execution_count": null,
   "metadata": {
    "ExecuteTime": {
     "end_time": "2020-03-07T00:25:39.759861Z",
     "start_time": "2020-03-07T00:25:35.779845Z"
    }
   },
   "outputs": [],
   "source": [
    "dataset_dicts = get_semseg_dataset_dicts(root_dir, dataset_name, 'train')"
   ]
  },
  {
   "cell_type": "code",
   "execution_count": null,
   "metadata": {
    "ExecuteTime": {
     "end_time": "2020-03-07T00:25:40.438464Z",
     "start_time": "2020-03-07T00:25:39.761534Z"
    },
    "scrolled": true
   },
   "outputs": [],
   "source": [
    "def visualize_dataset(dataset_dicts):\n",
    "    for d in random.sample(dataset_dicts, 3):\n",
    "        img = cv2.imread(d[\"file_name\"])\n",
    "        visualizer = Visualizer(img[:, :, ::-1], metadata=customdata_metadata, scale=0.5)\n",
    "        vis = visualizer.draw_dataset_dict(d)\n",
    "        im = vis.get_image()[:, :, ::-1]\n",
    "        im = np.array(im, dtype=np.uint8)\n",
    "        im = cv2.cvtColor(im, cv2.COLOR_RGB2BGR)\n",
    "        plt.imshow(im)\n",
    "        plt.show()\n",
    "visualize_dataset(dataset_dicts)"
   ]
  },
  {
   "cell_type": "code",
   "execution_count": null,
   "metadata": {
    "ExecuteTime": {
     "end_time": "2020-03-07T00:27:44.098592Z",
     "start_time": "2020-03-07T00:27:44.082213Z"
    }
   },
   "outputs": [],
   "source": [
    "from detectron2.modeling import GeneralizedRCNNWithTTA\n",
    "class Trainer(DefaultTrainer):\n",
    "    ignore_in_eval = None\n",
    "    \n",
    "    def __init__(self, cfg, ignore_in_eval=None):\n",
    "        super(Trainer, self).__init__(cfg)\n",
    "        Trainer.ignore_in_eval = ignore_in_eval\n",
    "        \n",
    "    @classmethod\n",
    "    def build_evaluator(cls, cfg, dataset_name, output_folder=None):\n",
    "        print('Evaluation with', dataset_name, cls.ignore_in_eval)\n",
    "        if output_folder is None:\n",
    "            output_folder = os.path.join(cfg.OUTPUT_DIR, \"inference\")\n",
    "        return SemSegEvaluator(\n",
    "            dataset_name,\n",
    "            distributed=True,\n",
    "            num_classes=cfg.MODEL.SEM_SEG_HEAD.NUM_CLASSES,\n",
    "            ignore_label=cfg.MODEL.SEM_SEG_HEAD.IGNORE_VALUE if cls.ignore_in_eval is None else cls.ignore_in_eval,\n",
    "            output_dir=output_folder,\n",
    "        )\n",
    "\n",
    "    @classmethod\n",
    "    def test_with_TTA(cls, cfg, model):\n",
    "        logger = logging.getLogger(\"detectron2.trainer\")\n",
    "        # In the end of training, run an evaluation with TTA\n",
    "        # Only support some R-CNN models.\n",
    "        logger.info(\"Running inference with test-time augmentation ...\")\n",
    "        model = GeneralizedRCNNWithTTA(cfg, model)\n",
    "        evaluators = [\n",
    "            cls.build_evaluator(\n",
    "                cfg, name, output_folder=os.path.join(cfg.OUTPUT_DIR, \"inference_TTA\")\n",
    "            )\n",
    "            for name in cfg.DATASETS.TEST\n",
    "        ]\n",
    "        res = cls.test(cfg, model, evaluators)\n",
    "        res = OrderedDict({k + \"_TTA\": v for k, v in res.items()})\n",
    "        return res"
   ]
  },
  {
   "cell_type": "code",
   "execution_count": null,
   "metadata": {
    "ExecuteTime": {
     "end_time": "2020-03-07T00:28:48.444799Z",
     "start_time": "2020-03-07T00:27:45.058080Z"
    },
    "scrolled": true
   },
   "outputs": [],
   "source": [
    "from detectron2.config import get_cfg\n",
    "from detectron2.config import CfgNode as CN\n",
    "from detectron2.evaluation import SemSegEvaluator, DatasetEvaluators\n",
    "\n",
    "cfg = get_cfg()\n",
    "# cfg.merge_from_file('configs/Misc/semantic_R_50_FPN_1x.yaml')\n",
    "cfg.merge_from_file('configs/Misc/semantic_R_101_FPN_1x.yaml')\n",
    "cfg.DATASETS.TRAIN = (\"semseg_train\",)\n",
    "cfg.DATASETS.TEST = (\"semseg_val\",)\n",
    "cfg.DATALOADER.NUM_WORKERS = 16\n",
    "cfg.INPUT.MAX_SIZE_TRAIN = 2000\n",
    "cfg.INPUT.CROP = CN({\"ENABLED\": True})\n",
    "cfg.INPUT.CROP.TYPE = \"relative_range\"\n",
    "cfg.INPUT.CROP.SIZE = [0.9, 0.9]\n",
    "cfg.INPUT.MASK_FORMAT = \"bitmask\" # ???\n",
    "# cfg.MODEL.WEIGHTS = model_zoo.get_checkpoint_url(\"Misc/semantic_R_50_FPN_1x.yaml\")  # Let training initialize from model zoo\n",
    "cfg.SOLVER.IMS_PER_BATCH = 4\n",
    "cfg.SOLVER.BASE_LR = 0.0005  # pick a good LR\n",
    "cfg.SOLVER.MAX_ITER = 100\n",
    "cfg.TEST.EVAL_PERIOD = 50\n",
    "cfg.MODEL.SEM_SEG_HEAD.NUM_CLASSES = 2\n",
    "cfg.MODEL.SEM_SEG_HEAD.IGNORE_VALUE = -1\n",
    "cfg.OUTPUT_DIR = \"./output/\"\n",
    "\n",
    "os.makedirs(cfg.OUTPUT_DIR, exist_ok=True)\n",
    "# trainer = DefaultTrainer(cfg) \n",
    "trainer = Trainer(cfg, ignore_in_eval=0)\n",
    "trainer.resume_or_load(resume=False)\n",
    "\n",
    "# trainer.register_hooks(\n",
    "#             [hooks.EvalHook(0, lambda: trainer.test_with_TTA(cfg, trainer.model))]\n",
    "#         )\n",
    "trainer.train()"
   ]
  },
  {
   "cell_type": "code",
   "execution_count": null,
   "metadata": {
    "ExecuteTime": {
     "end_time": "2020-03-07T00:30:27.068957Z",
     "start_time": "2020-03-07T00:30:26.339541Z"
    }
   },
   "outputs": [],
   "source": [
    "cfg.MODEL.WEIGHTS = os.path.join(cfg.OUTPUT_DIR, \"model_final.pth\")\n",
    "# cfg.MODEL.ROI_HEADS.SCORE_THRESH_TEST = 0.7   # set the testing threshold for this model\n",
    "# cfg.DATASETS.TEST = (\"custom_val\", )\n",
    "predictor = DefaultPredictor(cfg)"
   ]
  },
  {
   "cell_type": "code",
   "execution_count": null,
   "metadata": {
    "ExecuteTime": {
     "end_time": "2020-03-07T00:34:42.637329Z",
     "start_time": "2020-03-07T00:34:42.429539Z"
    }
   },
   "outputs": [],
   "source": [
    "root_dir = '../data/detectron2'\n",
    "dataset_name = 'test_512px'\n",
    "dataset_dicts_test = get_semseg_dataset_dicts(root_dir, dataset_name, 'val')\n",
    "DatasetCatalog.register(\"semseg_test\", lambda d=mode:get_semseg_dataset_dicts(root_dir, dataset_name, 'val'))\n",
    "MetadataCatalog.get(\"semseg_test\").set(stuff_classes=[\"others\", \"target\"], \n",
    "                                         stuff_colors=[(120,120,120),(255,0,0)])\n",
    "customdata_metadata_test = MetadataCatalog.get(\"semseg_test\")"
   ]
  },
  {
   "cell_type": "code",
   "execution_count": null,
   "metadata": {
    "ExecuteTime": {
     "end_time": "2020-03-07T00:35:11.461391Z",
     "start_time": "2020-03-07T00:34:58.259432Z"
    },
    "scrolled": true
   },
   "outputs": [],
   "source": [
    "import glob \n",
    "\n",
    "os.makedirs('./results', exist_ok=True)\n",
    "\n",
    "for i, d in enumerate(dataset_dicts_test):\n",
    "    print(i, d['file_name'])\n",
    "    im = cv2.imread(d[\"file_name\"])\n",
    "    im = np.array(im, dtype=np.uint8)\n",
    "#     plt.figure(figsize=(15,15))\n",
    "#     plt.imshow(cv2.cvtColor(im, cv2.COLOR_RGB2BGR))\n",
    "#     plt.show()\n",
    "\n",
    "    outputs = predictor(im)\n",
    "    out = np.array(outputs[\"sem_seg\"].argmax(dim=0).to('cpu')*255, dtype=np.uint8)\n",
    "    cv2.imwrite('./results/out{}_base.png'.format(i), im)\n",
    "#     cv2.imwrite('./results/out{}_mask.png'.format(i), out)\n",
    "    v = Visualizer(im[:, :, ::-1],\n",
    "                   metadata=customdata_metadata_test, \n",
    "                   scale=1.0, \n",
    "#                    instance_mode=ColorMode.SEGMENTATION   # remove the colors of unsegmented pixels\n",
    "    )\n",
    "\n",
    "    vis = v.draw_sem_seg(outputs[\"sem_seg\"].argmax(dim=0).to(\"cpu\"), area_threshold=0, alpha=0.5)\n",
    "    im = vis.get_image()[:, :, ::-1]\n",
    "    im = np.array(im, dtype=np.uint8)\n",
    "    cv2.imwrite('./results/out{}.png'.format(i), im)\n",
    "    im = cv2.cvtColor(im, cv2.COLOR_RGB2BGR)\n",
    "    plt.figure(figsize=(8,8))\n",
    "    plt.imshow(im)\n",
    "    plt.show()\n",
    "#     cv2_imshow(v.get_image()[:, :, ::-1])"
   ]
  },
  {
   "cell_type": "code",
   "execution_count": null,
   "metadata": {
    "ExecuteTime": {
     "end_time": "2020-03-07T00:35:24.587112Z",
     "start_time": "2020-03-07T00:35:22.024662Z"
    }
   },
   "outputs": [],
   "source": [
    "from detectron2.evaluation import SemSegEvaluator, inference_on_dataset\n",
    "from detectron2.data import build_detection_test_loader\n",
    "from detectron2.checkpoint import DetectionCheckpointer\n",
    "\n",
    "evaluator = SemSegEvaluator(\"semseg_test\", distributed=True, num_classes=2, \n",
    "                            ignore_label=0, output_dir=\"./output/\")\n",
    "# model = trainer.build_model(cfg)\n",
    "# DetectionCheckpointer(model, save_dir=cfg.OUTPUT_DIR).resume_or_load(\n",
    "#             cfg.MODEL.WEIGHTS)\n",
    "trainer.test(cfg, trainer.model, evaluator)\n",
    "# trainer.test(cfg, model, evaluator)"
   ]
  },
  {
   "cell_type": "code",
   "execution_count": null,
   "metadata": {},
   "outputs": [],
   "source": []
  }
 ],
 "metadata": {
  "kernelspec": {
   "display_name": "Python 3",
   "language": "python",
   "name": "python3"
  },
  "language_info": {
   "codemirror_mode": {
    "name": "ipython",
    "version": 3
   },
   "file_extension": ".py",
   "mimetype": "text/x-python",
   "name": "python",
   "nbconvert_exporter": "python",
   "pygments_lexer": "ipython3",
   "version": "3.7.6"
  },
  "toc": {
   "base_numbering": 1,
   "nav_menu": {},
   "number_sections": true,
   "sideBar": true,
   "skip_h1_title": false,
   "title_cell": "Table of Contents",
   "title_sidebar": "Contents",
   "toc_cell": false,
   "toc_position": {},
   "toc_section_display": true,
   "toc_window_display": false
  }
 },
 "nbformat": 4,
 "nbformat_minor": 4
}
